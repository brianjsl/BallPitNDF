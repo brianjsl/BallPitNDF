{
 "cells": [
  {
   "cell_type": "code",
   "execution_count": 1,
   "metadata": {},
   "outputs": [],
   "source": [
    "%load_ext autoreload\n",
    "%autoreload 2"
   ]
  },
  {
   "cell_type": "code",
   "execution_count": 2,
   "metadata": {},
   "outputs": [],
   "source": [
    "import os\n",
    "import numpy as np\n",
    "from pydrake.all import (\n",
    "    AddDefaultVisualization,\n",
    "    AddMultibodyPlantSceneGraph,\n",
    "    DiagramBuilder,\n",
    "    LoadModelDirectives,\n",
    "    LoadModelDirectivesFromString,\n",
    "    Parser,\n",
    "    ProcessModelDirectives,\n",
    "    RigidTransform,\n",
    "    RollPitchYaw,\n",
    "    Simulator,\n",
    "    StartMeshcat,\n",
    "    FindResourceOrThrow,\n",
    "    MultibodyPlant,\n",
    "    MeshcatVisualizer\n",
    ")\n",
    "import manipulation\n",
    "from manipulation.station import LoadScenario, MakeHardwareStation\n",
    "from manipulation.utils import ConfigureParser, RenderDiagram"
   ]
  },
  {
   "cell_type": "code",
   "execution_count": 3,
   "metadata": {},
   "outputs": [
    {
     "name": "stderr",
     "output_type": "stream",
     "text": [
      "INFO:drake:Meshcat listening for connections at http://localhost:7001\n"
     ]
    }
   ],
   "source": [
    "meshcat = StartMeshcat()"
   ]
  },
  {
   "cell_type": "markdown",
   "metadata": {},
   "source": [
    "# Setup Franka Panda"
   ]
  },
  {
   "cell_type": "code",
   "execution_count": 8,
   "metadata": {},
   "outputs": [],
   "source": [
    "meshcat.Delete()\n",
    "\n",
    "# Model directive in YAML format\n",
    "model_directive = \"\"\"\n",
    "directives:\n",
    "    - add_model:\n",
    "        name: panda\n",
    "        file: package://drake_models/franka_description/urdf/panda_arm.urdf\n",
    "        default_joint_positions:\n",
    "            panda_joint1: [-1.57]\n",
    "            panda_joint2: [0.1]\n",
    "            panda_joint3: [0]\n",
    "            panda_joint4: [-1.2]\n",
    "            panda_joint5: [0]\n",
    "            panda_joint6: [ 1.6]\n",
    "            panda_joint7: [0]\n",
    "    - add_weld:\n",
    "        parent: world\n",
    "        child: panda::panda_link0\n",
    "    - add_model:\n",
    "        name: panda_hand\n",
    "        file: package://drake_models/franka_description/urdf/panda_hand.urdf\n",
    "    - add_weld:\n",
    "        parent: panda::panda_link8\n",
    "        child: panda_hand::panda_hand\n",
    "        X_PC:\n",
    "            translation: [0, 0, 0]\n",
    "            rotation: !Rpy { deg: [0, 0, -45] }\n",
    "    - add_model:\n",
    "        name: floor\n",
    "        file: package://manipulation/floor.sdf\n",
    "    - add_weld:\n",
    "        parent: world\n",
    "        child: floor::box\n",
    "        X_PC:\n",
    "            translation: [0, 0, -.5]\n",
    "    - add_model:\n",
    "        name: foam_brick\n",
    "        file: package://manipulation/hydro/061_foam_brick.sdf\n",
    "        default_free_body_pose:\n",
    "            base_link:\n",
    "                translation: [0.55, 0.1, 0]\n",
    "\"\"\"\n",
    "\n",
    "# Initialize the builder and plant\n",
    "builder = DiagramBuilder()\n",
    "plant, scene_graph = AddMultibodyPlantSceneGraph(builder, time_step=1e-4)\n",
    "\n",
    "# Parse and process the directive\n",
    "parser = Parser(plant)\n",
    "ConfigureParser(parser)\n",
    "directives = LoadModelDirectivesFromString(model_directive)\n",
    "ProcessModelDirectives(directives, parser)\n",
    "\n",
    "# Finalize the plant and add visualization\n",
    "plant.Finalize()\n",
    "visualizer = MeshcatVisualizer.AddToBuilder(builder, scene_graph, meshcat)\n",
    "\n",
    "# Build the diagram\n",
    "diagram = builder.Build()\n",
    "context = diagram.CreateDefaultContext()\n",
    "\n",
    "# Publish to visualize\n",
    "diagram.ForcedPublish(context)"
   ]
  },
  {
   "cell_type": "code",
   "execution_count": null,
   "metadata": {},
   "outputs": [],
   "source": []
  },
  {
   "cell_type": "code",
   "execution_count": null,
   "metadata": {},
   "outputs": [],
   "source": []
  },
  {
   "cell_type": "code",
   "execution_count": null,
   "metadata": {},
   "outputs": [],
   "source": []
  }
 ],
 "metadata": {
  "kernelspec": {
   "display_name": "ballpitndf-hh2Yn8hf-py3.11",
   "language": "python",
   "name": "python3"
  },
  "language_info": {
   "codemirror_mode": {
    "name": "ipython",
    "version": 3
   },
   "file_extension": ".py",
   "mimetype": "text/x-python",
   "name": "python",
   "nbconvert_exporter": "python",
   "pygments_lexer": "ipython3",
   "version": "3.11.9"
  }
 },
 "nbformat": 4,
 "nbformat_minor": 2
}
